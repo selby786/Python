{
  "nbformat": 4,
  "nbformat_minor": 0,
  "metadata": {
    "kernelspec": {
      "display_name": "Python 3",
      "language": "python",
      "name": "python3"
    },
    "language_info": {
      "codemirror_mode": {
        "name": "ipython",
        "version": 3
      },
      "file_extension": ".py",
      "mimetype": "text/x-python",
      "name": "python",
      "nbconvert_exporter": "python",
      "pygments_lexer": "ipython3",
      "version": "3.8.5"
    },
    "colab": {
      "name": "Covid_19_final.ipynb",
      "provenance": [],
      "collapsed_sections": []
    }
  },
  "cells": [
    {
      "cell_type": "markdown",
      "metadata": {
        "id": "gI2_D0NN1Pg9"
      },
      "source": [
        "## Q1. Check unique state/UT names, fix state names appearing twice or more due to spelling mistakes\n",
        "\n",
        "Example - \n",
        "\n",
        "Maharashtra\n",
        "\n",
        "Maharashtra***\n",
        "\n",
        "Here Maharashtra** should be replaced by Maharashtra\n",
        "\n",
        "Example - \n",
        "\n",
        "Telangana                                   \n",
        "Telangana***                               \n",
        "Telengana                                   \n",
        "Telengana*** \n",
        "\n",
        "Here Telangana**, Telengana, Telengana** should be replaced by telangana\n",
        "\n",
        "Do the same for all states, \n",
        "Hint - Use replace() function."
      ]
    },
    {
      "cell_type": "code",
      "metadata": {
        "id": "-NYDZAIm1PhK"
      },
      "source": [
        "import numpy as np\n",
        "import pandas as pd\n",
        "import matplotlib.pyplot as plt\n",
        "import seaborn as sns\n",
        "\n",
        "import warnings\n",
        "warnings.filterwarnings(\"ignore\")"
      ],
      "execution_count": 1,
      "outputs": []
    },
    {
      "cell_type": "code",
      "metadata": {
        "id": "2QjuArK-1PhO"
      },
      "source": [
        "covid_india = pd.read_csv(\"covid_19_india.csv\")"
      ],
      "execution_count": 2,
      "outputs": []
    },
    {
      "cell_type": "code",
      "metadata": {
        "colab": {
          "base_uri": "https://localhost:8080/"
        },
        "id": "2vONsYsj1PhR",
        "outputId": "e27b02d1-a5c6-4f7d-83f6-7084378020ca"
      },
      "source": [
        "covid_india[\"State/UnionTerritory\"].unique()"
      ],
      "execution_count": 3,
      "outputs": [
        {
          "output_type": "execute_result",
          "data": {
            "text/plain": [
              "array(['Kerala', 'Telengana', 'Delhi', 'Rajasthan', 'Uttar Pradesh',\n",
              "       'Haryana', 'Ladakh', 'Tamil Nadu', 'Karnataka', 'Maharashtra',\n",
              "       'Punjab', 'Jammu and Kashmir', 'Andhra Pradesh', 'Uttarakhand',\n",
              "       'Odisha', 'Puducherry', 'West Bengal', 'Chhattisgarh',\n",
              "       'Chandigarh', 'Gujarat', 'Himachal Pradesh', 'Madhya Pradesh',\n",
              "       'Bihar', 'Manipur', 'Mizoram', 'Andaman and Nicobar Islands',\n",
              "       'Goa', 'Unassigned', 'Assam', 'Jharkhand', 'Arunachal Pradesh',\n",
              "       'Tripura', 'Nagaland', 'Meghalaya', 'Dadar Nagar Haveli',\n",
              "       'Cases being reassigned to states', 'Sikkim', 'Daman & Diu',\n",
              "       'Dadra and Nagar Haveli and Daman and Diu', 'Telangana',\n",
              "       'Telangana***', 'Telengana***', 'Maharashtra***', 'Chandigarh***',\n",
              "       'Punjab***'], dtype=object)"
            ]
          },
          "metadata": {
            "tags": []
          },
          "execution_count": 3
        }
      ]
    },
    {
      "cell_type": "code",
      "metadata": {
        "id": "qMz5pXJC1PhU"
      },
      "source": [
        "text = open(\"covid_19_india.csv\", \"r\")\n",
        "text = ''.join([i for i in text])"
      ],
      "execution_count": 4,
      "outputs": []
    },
    {
      "cell_type": "code",
      "metadata": {
        "id": "RFBxB4MG1PhW"
      },
      "source": [
        "text = text.replace(\"Maharashtra***\", \"Maharashtra\")  \n",
        "text = text.replace(\"Chandigarh***\", \"Chandigarh\")  \n",
        "text = text.replace(\"Punjab***\", \"Punjab\")  \n",
        "text = text.replace(\"Telangana\", \"telangana\")\n",
        "text = text.replace(\"Telengana\", \"telangana\")\n",
        "text = text.replace(\"Telengana***\", \"telangana\")\n",
        "text = text.replace(\"Telangana***\", \"telangana\")\n",
        "text = text.replace(\"telangana***\", \"telangana\")\n",
        "text = text.replace(\"Dadar Nagar Haveli\", \"Dadra Nagar Haveli & Daman & Diu\")\n",
        "text = text.replace(\"Dadar and Nagar Haveli and Daman and Diu\", \"Dadra Nagar Haveli & Daman & Diu\")\n",
        "text = text.replace(\"Daman & Diu\", \"Dadra Nagar Haveli & Daman & Diu\")\n",
        "text = text.replace(\"Dadra and Nagar Haveli and Daman and Diu\", \"Dadra Nagar Haveli & Daman & Diu\")\n",
        "text = text.replace(\"Dadra Nagar Haveli & Dadra Nagar Haveli & Daman & Diu\", \"Dadra Nagar Haveli & Daman & Diu\")"
      ],
      "execution_count": 5,
      "outputs": []
    },
    {
      "cell_type": "code",
      "metadata": {
        "id": "7SCZ5NLe1PhY"
      },
      "source": [
        "x = open(\"Covid_19_output.csv\",\"w\")\n",
        "x.writelines(text) \n",
        "x.close()"
      ],
      "execution_count": 6,
      "outputs": []
    },
    {
      "cell_type": "code",
      "metadata": {
        "id": "hxZ9c4-k1Pha"
      },
      "source": [
        "covid_19 = pd.read_csv(\"Covid_19_output.csv\")"
      ],
      "execution_count": 7,
      "outputs": []
    },
    {
      "cell_type": "code",
      "metadata": {
        "colab": {
          "base_uri": "https://localhost:8080/",
          "height": 419
        },
        "id": "fRNZrEpk1Phc",
        "outputId": "fe7c0d58-a9ed-4220-820a-8e290eaa2e8c"
      },
      "source": [
        "covid_19"
      ],
      "execution_count": 8,
      "outputs": [
        {
          "output_type": "execute_result",
          "data": {
            "text/html": [
              "<div>\n",
              "<style scoped>\n",
              "    .dataframe tbody tr th:only-of-type {\n",
              "        vertical-align: middle;\n",
              "    }\n",
              "\n",
              "    .dataframe tbody tr th {\n",
              "        vertical-align: top;\n",
              "    }\n",
              "\n",
              "    .dataframe thead th {\n",
              "        text-align: right;\n",
              "    }\n",
              "</style>\n",
              "<table border=\"1\" class=\"dataframe\">\n",
              "  <thead>\n",
              "    <tr style=\"text-align: right;\">\n",
              "      <th></th>\n",
              "      <th>Sno</th>\n",
              "      <th>Date</th>\n",
              "      <th>Time</th>\n",
              "      <th>State/UnionTerritory</th>\n",
              "      <th>ConfirmedIndianNational</th>\n",
              "      <th>ConfirmedForeignNational</th>\n",
              "      <th>Cured</th>\n",
              "      <th>Deaths</th>\n",
              "      <th>Confirmed</th>\n",
              "    </tr>\n",
              "  </thead>\n",
              "  <tbody>\n",
              "    <tr>\n",
              "      <th>0</th>\n",
              "      <td>1</td>\n",
              "      <td>30/01/20</td>\n",
              "      <td>6:00 PM</td>\n",
              "      <td>Kerala</td>\n",
              "      <td>1</td>\n",
              "      <td>0</td>\n",
              "      <td>0</td>\n",
              "      <td>0</td>\n",
              "      <td>1</td>\n",
              "    </tr>\n",
              "    <tr>\n",
              "      <th>1</th>\n",
              "      <td>2</td>\n",
              "      <td>31/01/20</td>\n",
              "      <td>6:00 PM</td>\n",
              "      <td>Kerala</td>\n",
              "      <td>1</td>\n",
              "      <td>0</td>\n",
              "      <td>0</td>\n",
              "      <td>0</td>\n",
              "      <td>1</td>\n",
              "    </tr>\n",
              "    <tr>\n",
              "      <th>2</th>\n",
              "      <td>3</td>\n",
              "      <td>01/02/20</td>\n",
              "      <td>6:00 PM</td>\n",
              "      <td>Kerala</td>\n",
              "      <td>2</td>\n",
              "      <td>0</td>\n",
              "      <td>0</td>\n",
              "      <td>0</td>\n",
              "      <td>2</td>\n",
              "    </tr>\n",
              "    <tr>\n",
              "      <th>3</th>\n",
              "      <td>4</td>\n",
              "      <td>02/02/20</td>\n",
              "      <td>6:00 PM</td>\n",
              "      <td>Kerala</td>\n",
              "      <td>3</td>\n",
              "      <td>0</td>\n",
              "      <td>0</td>\n",
              "      <td>0</td>\n",
              "      <td>3</td>\n",
              "    </tr>\n",
              "    <tr>\n",
              "      <th>4</th>\n",
              "      <td>5</td>\n",
              "      <td>03/02/20</td>\n",
              "      <td>6:00 PM</td>\n",
              "      <td>Kerala</td>\n",
              "      <td>3</td>\n",
              "      <td>0</td>\n",
              "      <td>0</td>\n",
              "      <td>0</td>\n",
              "      <td>3</td>\n",
              "    </tr>\n",
              "    <tr>\n",
              "      <th>...</th>\n",
              "      <td>...</td>\n",
              "      <td>...</td>\n",
              "      <td>...</td>\n",
              "      <td>...</td>\n",
              "      <td>...</td>\n",
              "      <td>...</td>\n",
              "      <td>...</td>\n",
              "      <td>...</td>\n",
              "      <td>...</td>\n",
              "    </tr>\n",
              "    <tr>\n",
              "      <th>9286</th>\n",
              "      <td>9287</td>\n",
              "      <td>09/12/20</td>\n",
              "      <td>8:00 AM</td>\n",
              "      <td>telangana</td>\n",
              "      <td>-</td>\n",
              "      <td>-</td>\n",
              "      <td>266120</td>\n",
              "      <td>1480</td>\n",
              "      <td>275261</td>\n",
              "    </tr>\n",
              "    <tr>\n",
              "      <th>9287</th>\n",
              "      <td>9288</td>\n",
              "      <td>09/12/20</td>\n",
              "      <td>8:00 AM</td>\n",
              "      <td>Tripura</td>\n",
              "      <td>-</td>\n",
              "      <td>-</td>\n",
              "      <td>32169</td>\n",
              "      <td>373</td>\n",
              "      <td>32945</td>\n",
              "    </tr>\n",
              "    <tr>\n",
              "      <th>9288</th>\n",
              "      <td>9289</td>\n",
              "      <td>09/12/20</td>\n",
              "      <td>8:00 AM</td>\n",
              "      <td>Uttarakhand</td>\n",
              "      <td>-</td>\n",
              "      <td>-</td>\n",
              "      <td>72435</td>\n",
              "      <td>1307</td>\n",
              "      <td>79141</td>\n",
              "    </tr>\n",
              "    <tr>\n",
              "      <th>9289</th>\n",
              "      <td>9290</td>\n",
              "      <td>09/12/20</td>\n",
              "      <td>8:00 AM</td>\n",
              "      <td>Uttar Pradesh</td>\n",
              "      <td>-</td>\n",
              "      <td>-</td>\n",
              "      <td>528832</td>\n",
              "      <td>7967</td>\n",
              "      <td>558173</td>\n",
              "    </tr>\n",
              "    <tr>\n",
              "      <th>9290</th>\n",
              "      <td>9291</td>\n",
              "      <td>09/12/20</td>\n",
              "      <td>8:00 AM</td>\n",
              "      <td>West Bengal</td>\n",
              "      <td>-</td>\n",
              "      <td>-</td>\n",
              "      <td>475425</td>\n",
              "      <td>8820</td>\n",
              "      <td>507995</td>\n",
              "    </tr>\n",
              "  </tbody>\n",
              "</table>\n",
              "<p>9291 rows × 9 columns</p>\n",
              "</div>"
            ],
            "text/plain": [
              "       Sno      Date     Time  ...   Cured Deaths Confirmed\n",
              "0        1  30/01/20  6:00 PM  ...       0      0         1\n",
              "1        2  31/01/20  6:00 PM  ...       0      0         1\n",
              "2        3  01/02/20  6:00 PM  ...       0      0         2\n",
              "3        4  02/02/20  6:00 PM  ...       0      0         3\n",
              "4        5  03/02/20  6:00 PM  ...       0      0         3\n",
              "...    ...       ...      ...  ...     ...    ...       ...\n",
              "9286  9287  09/12/20  8:00 AM  ...  266120   1480    275261\n",
              "9287  9288  09/12/20  8:00 AM  ...   32169    373     32945\n",
              "9288  9289  09/12/20  8:00 AM  ...   72435   1307     79141\n",
              "9289  9290  09/12/20  8:00 AM  ...  528832   7967    558173\n",
              "9290  9291  09/12/20  8:00 AM  ...  475425   8820    507995\n",
              "\n",
              "[9291 rows x 9 columns]"
            ]
          },
          "metadata": {
            "tags": []
          },
          "execution_count": 8
        }
      ]
    },
    {
      "cell_type": "code",
      "metadata": {
        "id": "uwWwuVCS1Phe"
      },
      "source": [
        "states_names = covid_19[\"State/UnionTerritory\"].unique()"
      ],
      "execution_count": 9,
      "outputs": []
    },
    {
      "cell_type": "code",
      "metadata": {
        "colab": {
          "base_uri": "https://localhost:8080/"
        },
        "id": "v8KCfRya1Phf",
        "outputId": "1bdfa7e1-c26d-4443-f873-1d95f57f84c2"
      },
      "source": [
        "states_names  "
      ],
      "execution_count": 10,
      "outputs": [
        {
          "output_type": "execute_result",
          "data": {
            "text/plain": [
              "array(['Kerala', 'telangana', 'Delhi', 'Rajasthan', 'Uttar Pradesh',\n",
              "       'Haryana', 'Ladakh', 'Tamil Nadu', 'Karnataka', 'Maharashtra',\n",
              "       'Punjab', 'Jammu and Kashmir', 'Andhra Pradesh', 'Uttarakhand',\n",
              "       'Odisha', 'Puducherry', 'West Bengal', 'Chhattisgarh',\n",
              "       'Chandigarh', 'Gujarat', 'Himachal Pradesh', 'Madhya Pradesh',\n",
              "       'Bihar', 'Manipur', 'Mizoram', 'Andaman and Nicobar Islands',\n",
              "       'Goa', 'Unassigned', 'Assam', 'Jharkhand', 'Arunachal Pradesh',\n",
              "       'Tripura', 'Nagaland', 'Meghalaya',\n",
              "       'Dadra Nagar Haveli & Daman & Diu',\n",
              "       'Cases being reassigned to states', 'Sikkim'], dtype=object)"
            ]
          },
          "metadata": {
            "tags": []
          },
          "execution_count": 10
        }
      ]
    },
    {
      "cell_type": "markdown",
      "metadata": {
        "id": "ZJX32p5m1Phh"
      },
      "source": [
        "## Q2. Calculate per day average confirmed cases for all states/UT."
      ]
    },
    {
      "cell_type": "code",
      "metadata": {
        "id": "tz1DJIPp1Phj"
      },
      "source": [
        "avg_cases = covid_19.groupby([\"Date\",\"State/UnionTerritory\"])[\"Confirmed\"].mean()"
      ],
      "execution_count": 11,
      "outputs": []
    },
    {
      "cell_type": "code",
      "metadata": {
        "colab": {
          "base_uri": "https://localhost:8080/"
        },
        "id": "pihtWVYs1Phk",
        "outputId": "79e4988e-78bd-474f-d683-9bf072873686"
      },
      "source": [
        "avg_cases"
      ],
      "execution_count": 12,
      "outputs": [
        {
          "output_type": "execute_result",
          "data": {
            "text/plain": [
              "Date      State/UnionTerritory       \n",
              "01/02/20  Kerala                              2\n",
              "01/03/20  Kerala                              3\n",
              "01/04/20  Andaman and Nicobar Islands        10\n",
              "          Andhra Pradesh                     83\n",
              "          Assam                               1\n",
              "                                          ...  \n",
              "31/10/20  Tripura                         30717\n",
              "          Uttar Pradesh                  480082\n",
              "          Uttarakhand                     61915\n",
              "          West Bengal                    369671\n",
              "          telangana                      238632\n",
              "Name: Confirmed, Length: 9290, dtype: int64"
            ]
          },
          "metadata": {
            "tags": []
          },
          "execution_count": 12
        }
      ]
    },
    {
      "cell_type": "markdown",
      "metadata": {
        "id": "fjydA54C1Phm"
      },
      "source": [
        "## Q3. Plot a linegraph that shows distribution of per day confirmed cases in Maharashtra in 2020."
      ]
    },
    {
      "cell_type": "code",
      "metadata": {
        "id": "0ad6oQ5A1Phn"
      },
      "source": [
        "confirmed_Mh = covid_19[covid_19[\"State/UnionTerritory\"] == \"Maharashtra\"]"
      ],
      "execution_count": 13,
      "outputs": []
    },
    {
      "cell_type": "code",
      "metadata": {
        "colab": {
          "base_uri": "https://localhost:8080/",
          "height": 419
        },
        "id": "5MxnVCRt1Pho",
        "outputId": "c31a5e52-0706-46b9-d3de-2d823907b4cf"
      },
      "source": [
        "confirmed_Mh"
      ],
      "execution_count": 14,
      "outputs": [
        {
          "output_type": "execute_result",
          "data": {
            "text/html": [
              "<div>\n",
              "<style scoped>\n",
              "    .dataframe tbody tr th:only-of-type {\n",
              "        vertical-align: middle;\n",
              "    }\n",
              "\n",
              "    .dataframe tbody tr th {\n",
              "        vertical-align: top;\n",
              "    }\n",
              "\n",
              "    .dataframe thead th {\n",
              "        text-align: right;\n",
              "    }\n",
              "</style>\n",
              "<table border=\"1\" class=\"dataframe\">\n",
              "  <thead>\n",
              "    <tr style=\"text-align: right;\">\n",
              "      <th></th>\n",
              "      <th>Sno</th>\n",
              "      <th>Date</th>\n",
              "      <th>Time</th>\n",
              "      <th>State/UnionTerritory</th>\n",
              "      <th>ConfirmedIndianNational</th>\n",
              "      <th>ConfirmedForeignNational</th>\n",
              "      <th>Cured</th>\n",
              "      <th>Deaths</th>\n",
              "      <th>Confirmed</th>\n",
              "    </tr>\n",
              "  </thead>\n",
              "  <tbody>\n",
              "    <tr>\n",
              "      <th>76</th>\n",
              "      <td>77</td>\n",
              "      <td>09/03/20</td>\n",
              "      <td>6:00 PM</td>\n",
              "      <td>Maharashtra</td>\n",
              "      <td>2</td>\n",
              "      <td>0</td>\n",
              "      <td>0</td>\n",
              "      <td>0</td>\n",
              "      <td>2</td>\n",
              "    </tr>\n",
              "    <tr>\n",
              "      <th>91</th>\n",
              "      <td>92</td>\n",
              "      <td>10/03/20</td>\n",
              "      <td>6:00 PM</td>\n",
              "      <td>Maharashtra</td>\n",
              "      <td>5</td>\n",
              "      <td>0</td>\n",
              "      <td>0</td>\n",
              "      <td>0</td>\n",
              "      <td>5</td>\n",
              "    </tr>\n",
              "    <tr>\n",
              "      <th>97</th>\n",
              "      <td>98</td>\n",
              "      <td>11/03/20</td>\n",
              "      <td>6:00 PM</td>\n",
              "      <td>Maharashtra</td>\n",
              "      <td>2</td>\n",
              "      <td>0</td>\n",
              "      <td>0</td>\n",
              "      <td>0</td>\n",
              "      <td>2</td>\n",
              "    </tr>\n",
              "    <tr>\n",
              "      <th>120</th>\n",
              "      <td>121</td>\n",
              "      <td>12/03/20</td>\n",
              "      <td>6:00 PM</td>\n",
              "      <td>Maharashtra</td>\n",
              "      <td>11</td>\n",
              "      <td>0</td>\n",
              "      <td>0</td>\n",
              "      <td>0</td>\n",
              "      <td>11</td>\n",
              "    </tr>\n",
              "    <tr>\n",
              "      <th>133</th>\n",
              "      <td>134</td>\n",
              "      <td>13/03/20</td>\n",
              "      <td>6:00 PM</td>\n",
              "      <td>Maharashtra</td>\n",
              "      <td>14</td>\n",
              "      <td>0</td>\n",
              "      <td>0</td>\n",
              "      <td>0</td>\n",
              "      <td>14</td>\n",
              "    </tr>\n",
              "    <tr>\n",
              "      <th>...</th>\n",
              "      <td>...</td>\n",
              "      <td>...</td>\n",
              "      <td>...</td>\n",
              "      <td>...</td>\n",
              "      <td>...</td>\n",
              "      <td>...</td>\n",
              "      <td>...</td>\n",
              "      <td>...</td>\n",
              "      <td>...</td>\n",
              "    </tr>\n",
              "    <tr>\n",
              "      <th>9135</th>\n",
              "      <td>9136</td>\n",
              "      <td>05/12/20</td>\n",
              "      <td>8:00 AM</td>\n",
              "      <td>Maharashtra</td>\n",
              "      <td>-</td>\n",
              "      <td>-</td>\n",
              "      <td>1710050</td>\n",
              "      <td>47599</td>\n",
              "      <td>1842587</td>\n",
              "    </tr>\n",
              "    <tr>\n",
              "      <th>9170</th>\n",
              "      <td>9171</td>\n",
              "      <td>06/12/20</td>\n",
              "      <td>8:00 AM</td>\n",
              "      <td>Maharashtra</td>\n",
              "      <td>-</td>\n",
              "      <td>-</td>\n",
              "      <td>1715884</td>\n",
              "      <td>47694</td>\n",
              "      <td>1847509</td>\n",
              "    </tr>\n",
              "    <tr>\n",
              "      <th>9205</th>\n",
              "      <td>9206</td>\n",
              "      <td>07/12/20</td>\n",
              "      <td>8:00 AM</td>\n",
              "      <td>Maharashtra</td>\n",
              "      <td>-</td>\n",
              "      <td>-</td>\n",
              "      <td>1723370</td>\n",
              "      <td>47734</td>\n",
              "      <td>1852266</td>\n",
              "    </tr>\n",
              "    <tr>\n",
              "      <th>9240</th>\n",
              "      <td>9241</td>\n",
              "      <td>08/12/20</td>\n",
              "      <td>8:00 AM</td>\n",
              "      <td>Maharashtra</td>\n",
              "      <td>-</td>\n",
              "      <td>-</td>\n",
              "      <td>1730715</td>\n",
              "      <td>47774</td>\n",
              "      <td>1855341</td>\n",
              "    </tr>\n",
              "    <tr>\n",
              "      <th>9275</th>\n",
              "      <td>9276</td>\n",
              "      <td>09/12/20</td>\n",
              "      <td>8:00 AM</td>\n",
              "      <td>Maharashtra</td>\n",
              "      <td>-</td>\n",
              "      <td>-</td>\n",
              "      <td>1737080</td>\n",
              "      <td>47827</td>\n",
              "      <td>1859367</td>\n",
              "    </tr>\n",
              "  </tbody>\n",
              "</table>\n",
              "<p>276 rows × 9 columns</p>\n",
              "</div>"
            ],
            "text/plain": [
              "       Sno      Date     Time  ...    Cured Deaths Confirmed\n",
              "76      77  09/03/20  6:00 PM  ...        0      0         2\n",
              "91      92  10/03/20  6:00 PM  ...        0      0         5\n",
              "97      98  11/03/20  6:00 PM  ...        0      0         2\n",
              "120    121  12/03/20  6:00 PM  ...        0      0        11\n",
              "133    134  13/03/20  6:00 PM  ...        0      0        14\n",
              "...    ...       ...      ...  ...      ...    ...       ...\n",
              "9135  9136  05/12/20  8:00 AM  ...  1710050  47599   1842587\n",
              "9170  9171  06/12/20  8:00 AM  ...  1715884  47694   1847509\n",
              "9205  9206  07/12/20  8:00 AM  ...  1723370  47734   1852266\n",
              "9240  9241  08/12/20  8:00 AM  ...  1730715  47774   1855341\n",
              "9275  9276  09/12/20  8:00 AM  ...  1737080  47827   1859367\n",
              "\n",
              "[276 rows x 9 columns]"
            ]
          },
          "metadata": {
            "tags": []
          },
          "execution_count": 14
        }
      ]
    },
    {
      "cell_type": "code",
      "metadata": {
        "colab": {
          "base_uri": "https://localhost:8080/",
          "height": 312
        },
        "id": "dNOAQILD1Phq",
        "outputId": "b4fa643d-b54e-498e-e656-8eb3e49405a6"
      },
      "source": [
        "x = [\"Date\"]\n",
        "y = [\"Confirmed\"]\n",
        "\n",
        "plt.figure(figsize=(10,6))\n",
        "\n",
        "confirmed_Mh.plot(x=\"Date\",y=\"Confirmed\")\n",
        "\n",
        "plt.title(\"Confirmed Cases in Maharashtra\")\n",
        "plt.xlabel(\"Date\")\n",
        "plt.ylabel(\"Confirmed\")\n",
        "\n",
        "plt.show()"
      ],
      "execution_count": 15,
      "outputs": [
        {
          "output_type": "display_data",
          "data": {
            "text/plain": [
              "<Figure size 720x432 with 0 Axes>"
            ]
          },
          "metadata": {
            "tags": []
          }
        },
        {
          "output_type": "display_data",
          "data": {
            "image/png": "[encoded data removed]",
            "text/plain": [
              "<Figure size 432x288 with 1 Axes>"
            ]
          },
          "metadata": {
            "tags": [],
            "needs_background": "light"
          }
        }
      ]
    },
    {
      "cell_type": "markdown",
      "metadata": {
        "id": "TEtgmu7n1Phs"
      },
      "source": [
        "## Q4. Plot a pie-chart displaying percentage of total cured and total death cases in Maharashtra."
      ]
    },
    {
      "cell_type": "code",
      "metadata": {
        "id": "3c4NgLiX1Pht"
      },
      "source": [
        "Maharashtra_cases = covid_19[covid_19[\"State/UnionTerritory\"] == \"Maharashtra\"]"
      ],
      "execution_count": 16,
      "outputs": []
    },
    {
      "cell_type": "code",
      "metadata": {
        "id": "i3IDJX_E1Phu"
      },
      "source": [
        "Cured = Maharashtra_cases[\"Cured\"].sum()"
      ],
      "execution_count": 17,
      "outputs": []
    },
    {
      "cell_type": "code",
      "metadata": {
        "colab": {
          "base_uri": "https://localhost:8080/"
        },
        "id": "v7tGVur81Phv",
        "outputId": "44164177-41f1-47f0-9a8e-9bd54344436b"
      },
      "source": [
        "Cured"
      ],
      "execution_count": 18,
      "outputs": [
        {
          "output_type": "execute_result",
          "data": {
            "text/plain": [
              "147793712"
            ]
          },
          "metadata": {
            "tags": []
          },
          "execution_count": 18
        }
      ]
    },
    {
      "cell_type": "code",
      "metadata": {
        "id": "ZS30wbq21Phx"
      },
      "source": [
        "Deaths = Maharashtra_cases[\"Deaths\"].sum()"
      ],
      "execution_count": 19,
      "outputs": []
    },
    {
      "cell_type": "code",
      "metadata": {
        "colab": {
          "base_uri": "https://localhost:8080/"
        },
        "id": "j_TvhYAa1Phy",
        "outputId": "70cb4b41-87f6-4f93-ae79-a5ac255deca4"
      },
      "source": [
        "Deaths"
      ],
      "execution_count": 20,
      "outputs": [
        {
          "output_type": "execute_result",
          "data": {
            "text/plain": [
              "5113730"
            ]
          },
          "metadata": {
            "tags": []
          },
          "execution_count": 20
        }
      ]
    },
    {
      "cell_type": "code",
      "metadata": {
        "colab": {
          "base_uri": "https://localhost:8080/",
          "height": 373
        },
        "id": "qj4m3s8D1Ph0",
        "outputId": "3953ba4e-a96f-427f-dbe9-d002d3cae91d"
      },
      "source": [
        "plt.figure(figsize=(10,6))\n",
        "plt.title(\"Covid Cases in Maharashtra\")\n",
        "plt.pie(Maharashtra_cases[[\"Cured\",\"Deaths\"]].sum(),autopct='%1.1f%%',explode=(0,0.1))\n",
        "plt.axis(\"equal\")\n",
        "plt.show()"
      ],
      "execution_count": 21,
      "outputs": [
        {
          "output_type": "display_data",
          "data": {
            "image/png": "[encoded data removed]",
            "text/plain": [
              "<Figure size 720x432 with 1 Axes>"
            ]
          },
          "metadata": {
            "tags": []
          }
        }
      ]
    },
    {
      "cell_type": "markdown",
      "metadata": {
        "id": "TXTn30He1Ph1"
      },
      "source": [
        "## Q5. Plot a barplot showing top-5 states with maximum number of total confirmed cases."
      ]
    },
    {
      "cell_type": "code",
      "metadata": {
        "id": "SqiP81WI1Ph2"
      },
      "source": [
        "top_cases = covid_19.groupby([\"State/UnionTerritory\"])[\"Confirmed\"].sum()"
      ],
      "execution_count": 22,
      "outputs": []
    },
    {
      "cell_type": "code",
      "metadata": {
        "colab": {
          "base_uri": "https://localhost:8080/"
        },
        "id": "2y01LuQj1Ph4",
        "outputId": "9dfbe205-0f28-4b44-a7b5-24f5d80c2f79"
      },
      "source": [
        "top_cases"
      ],
      "execution_count": 23,
      "outputs": [
        {
          "output_type": "execute_result",
          "data": {
            "text/plain": [
              "State/UnionTerritory\n",
              "Andaman and Nicobar Islands            483761\n",
              "Andhra Pradesh                       84815303\n",
              "Arunachal Pradesh                     1314087\n",
              "Assam                                21703581\n",
              "Bihar                                23891385\n",
              "Cases being reassigned to states       345565\n",
              "Chandigarh                            1403514\n",
              "Chhattisgarh                         16051609\n",
              "Dadra Nagar Haveli & Daman & Diu       384806\n",
              "Delhi                                46445978\n",
              "Goa                                   4248741\n",
              "Gujarat                              20788858\n",
              "Haryana                              18060806\n",
              "Himachal Pradesh                      2354421\n",
              "Jammu and Kashmir                     9870504\n",
              "Jharkhand                             9912089\n",
              "Karnataka                            79354749\n",
              "Kerala                               36407056\n",
              "Ladakh                                 680539\n",
              "Madhya Pradesh                       17544637\n",
              "Maharashtra                         181173762\n",
              "Manipur                               1788562\n",
              "Meghalaya                              849874\n",
              "Mizoram                                284581\n",
              "Nagaland                               918755\n",
              "Odisha                               27395482\n",
              "Puducherry                            3334604\n",
              "Punjab                               13479885\n",
              "Rajasthan                            20941444\n",
              "Sikkim                                 399767\n",
              "Tamil Nadu                           82789540\n",
              "Tripura                               3085356\n",
              "Unassigned                                161\n",
              "Uttar Pradesh                        50283822\n",
              "Uttarakhand                           6073034\n",
              "West Bengal                          38349942\n",
              "telangana                            26072869\n",
              "Name: Confirmed, dtype: int64"
            ]
          },
          "metadata": {
            "tags": []
          },
          "execution_count": 23
        }
      ]
    },
    {
      "cell_type": "code",
      "metadata": {
        "id": "qwbpjEIS1Ph5"
      },
      "source": [
        "max_cases = top_cases.sort_values(ascending=False).head(5)"
      ],
      "execution_count": 24,
      "outputs": []
    },
    {
      "cell_type": "code",
      "metadata": {
        "colab": {
          "base_uri": "https://localhost:8080/"
        },
        "id": "f4A6w0_c1Ph6",
        "outputId": "318c9f08-dac9-4945-944f-838d911bc1ce"
      },
      "source": [
        "max_cases"
      ],
      "execution_count": 25,
      "outputs": [
        {
          "output_type": "execute_result",
          "data": {
            "text/plain": [
              "State/UnionTerritory\n",
              "Maharashtra       181173762\n",
              "Andhra Pradesh     84815303\n",
              "Tamil Nadu         82789540\n",
              "Karnataka          79354749\n",
              "Uttar Pradesh      50283822\n",
              "Name: Confirmed, dtype: int64"
            ]
          },
          "metadata": {
            "tags": []
          },
          "execution_count": 25
        }
      ]
    },
    {
      "cell_type": "code",
      "metadata": {
        "colab": {
          "base_uri": "https://localhost:8080/",
          "height": 365
        },
        "id": "_y1c-8Sv1Ph8",
        "outputId": "409a0393-6c98-4ac4-bf43-4fa3b7120db9"
      },
      "source": [
        "plt.figure()\n",
        "max_cases.plot(kind=\"bar\")\n",
        "plt.title(\"Covid Cases\")\n",
        "plt.ylabel(\"Count\")\n",
        "plt.xlabel(\"State/UnionTerritory\")\n",
        "plt.show()"
      ],
      "execution_count": 26,
      "outputs": [
        {
          "output_type": "display_data",
          "data": {
            "image/png": "[encoded data removed]",
            "text/plain": [
              "<Figure size 432x288 with 1 Axes>"
            ]
          },
          "metadata": {
            "tags": [],
            "needs_background": "light"
          }
        }
      ]
    },
    {
      "cell_type": "markdown",
      "metadata": {
        "id": "z3y_Cfej1Ph-"
      },
      "source": [
        "## Q6. Which 3 states have lowest total death cases ?"
      ]
    },
    {
      "cell_type": "code",
      "metadata": {
        "id": "I5nZejLv1Ph_"
      },
      "source": [
        "death_cases = covid_19.groupby(\"State/UnionTerritory\")[\"Deaths\"].sum()"
      ],
      "execution_count": 27,
      "outputs": []
    },
    {
      "cell_type": "code",
      "metadata": {
        "colab": {
          "base_uri": "https://localhost:8080/"
        },
        "id": "PTXTXnW51PiA",
        "outputId": "b0211abd-1af7-4c06-a40f-f2bb5bcf4067"
      },
      "source": [
        "death_cases.sort_values()"
      ],
      "execution_count": 28,
      "outputs": [
        {
          "output_type": "execute_result",
          "data": {
            "text/plain": [
              "State/UnionTerritory\n",
              "Unassigned                                0\n",
              "Cases being reassigned to states          0\n",
              "Mizoram                                 159\n",
              "Dadra Nagar Haveli & Daman & Diu        296\n",
              "Arunachal Pradesh                      3268\n",
              "Nagaland                               3528\n",
              "Sikkim                                 5998\n",
              "Andaman and Nicobar Islands            6420\n",
              "Meghalaya                              7403\n",
              "Ladakh                                 7750\n",
              "Manipur                               14435\n",
              "Chandigarh                            20701\n",
              "Himachal Pradesh                      32216\n",
              "Tripura                               32265\n",
              "Goa                                   55207\n",
              "Puducherry                            57565\n",
              "Assam                                 85655\n",
              "Jharkhand                             87762\n",
              "Uttarakhand                           90610\n",
              "Bihar                                121993\n",
              "Odisha                               127833\n",
              "Kerala                               132008\n",
              "Jammu and Kashmir                    158081\n",
              "telangana                            163601\n",
              "Chhattisgarh                         170085\n",
              "Haryana                              194907\n",
              "Rajasthan                            230703\n",
              "Madhya Pradesh                       338597\n",
              "Punjab                               407940\n",
              "Gujarat                              574906\n",
              "Andhra Pradesh                       715536\n",
              "West Bengal                          736550\n",
              "Uttar Pradesh                        756398\n",
              "Delhi                                931396\n",
              "Karnataka                           1144931\n",
              "Tamil Nadu                          1291048\n",
              "Maharashtra                         5113730\n",
              "Name: Deaths, dtype: int64"
            ]
          },
          "metadata": {
            "tags": []
          },
          "execution_count": 28
        }
      ]
    },
    {
      "cell_type": "code",
      "metadata": {
        "colab": {
          "base_uri": "https://localhost:8080/"
        },
        "id": "P_2bUzzP1PiB",
        "outputId": "5eba7e32-f73c-444c-ac18-2c329b0bd7a1"
      },
      "source": [
        "death_cases.sort_values().head(3)"
      ],
      "execution_count": 29,
      "outputs": [
        {
          "output_type": "execute_result",
          "data": {
            "text/plain": [
              "State/UnionTerritory\n",
              "Unassigned                            0\n",
              "Cases being reassigned to states      0\n",
              "Mizoram                             159\n",
              "Name: Deaths, dtype: int64"
            ]
          },
          "metadata": {
            "tags": []
          },
          "execution_count": 29
        }
      ]
    },
    {
      "cell_type": "markdown",
      "metadata": {
        "id": "exVIF3wF1PiD"
      },
      "source": [
        "## Q7. Plot multi linegraph that shows distribution of per day confirmed cases, death cases and cured cases in India in 2020."
      ]
    },
    {
      "cell_type": "code",
      "metadata": {
        "id": "ZV8hzzKB1PiE"
      },
      "source": [
        "x = covid_19[\"Date\"]\n",
        "y = covid_19[\"Confirmed\"]\n",
        "z = covid_19[\"Deaths\"]\n",
        "w = covid_19[\"Cured\"]"
      ],
      "execution_count": 30,
      "outputs": []
    },
    {
      "cell_type": "code",
      "metadata": {
        "colab": {
          "base_uri": "https://localhost:8080/",
          "height": 497
        },
        "id": "GkUwARiq1PiG",
        "outputId": "8c279e8f-516a-49d7-bc0c-082b2ec4f288"
      },
      "source": [
        "plt.figure(figsize=(8,8))\n",
        "\n",
        "sns.lineplot(x,y,label=\"confirmed\")\n",
        "sns.lineplot(x,z,label=\"deaths\")\n",
        "sns.lineplot(x,w,label=\"cured\")\n",
        "\n",
        "plt.xlim((covid_19[\"Date\"].min(),covid_19[\"Date\"].max()))\n",
        "plt.show()"
      ],
      "execution_count": 31,
      "outputs": [
        {
          "output_type": "display_data",
          "data": {
            "image/png": "[encoded data removed]",
            "text/plain": [
              "<Figure size 576x576 with 1 Axes>"
            ]
          },
          "metadata": {
            "tags": [],
            "needs_background": "light"
          }
        }
      ]
    },
    {
      "cell_type": "code",
      "metadata": {
        "id": "OZ5TWpgY1_ew"
      },
      "source": [
        ""
      ],
      "execution_count": 31,
      "outputs": []
    }
  ]
}